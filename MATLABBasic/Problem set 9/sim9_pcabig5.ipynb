{
 "cells": [
  {
   "cell_type": "markdown",
   "metadata": {},
   "source": [
    "### Reduce Data: principal component analysis\n",
    "# Packages\n",
    "\n",
    "### Install packages\n"
   ]
  },
  {
   "cell_type": "code",
   "execution_count": 1,
   "metadata": {},
   "outputs": [
    {
     "name": "stdout",
     "output_type": "stream",
     "text": [
      "Requirement already satisfied: pandas in c:\\users\\sveta\\anaconda3\\lib\\site-packages (1.0.3)\n",
      "Requirement already satisfied: pytz>=2017.2 in c:\\users\\sveta\\anaconda3\\lib\\site-packages (from pandas) (2017.3)\n",
      "Requirement already satisfied: python-dateutil>=2.6.1 in c:\\users\\sveta\\anaconda3\\lib\\site-packages (from pandas) (2.6.1)\n",
      "Requirement already satisfied: numpy>=1.13.3 in c:\\users\\sveta\\anaconda3\\lib\\site-packages (from pandas) (1.18.1)\n",
      "Requirement already satisfied: six>=1.5 in c:\\users\\sveta\\anaconda3\\lib\\site-packages (from python-dateutil>=2.6.1->pandas) (1.11.0)\n",
      "Requirement already satisfied: numpy in c:\\users\\sveta\\anaconda3\\lib\\site-packages (1.18.1)\n",
      "Requirement already satisfied: scipy in c:\\users\\sveta\\anaconda3\\lib\\site-packages (1.4.1)\n",
      "Requirement already satisfied: numpy>=1.13.3 in c:\\users\\sveta\\anaconda3\\lib\\site-packages (from scipy) (1.18.1)\n",
      "Requirement already satisfied: sklearn in c:\\users\\sveta\\anaconda3\\lib\\site-packages (0.0)\n",
      "Requirement already satisfied: scikit-learn in c:\\users\\sveta\\anaconda3\\lib\\site-packages (from sklearn) (0.22.1)\n",
      "Requirement already satisfied: numpy>=1.11.0 in c:\\users\\sveta\\anaconda3\\lib\\site-packages (from scikit-learn->sklearn) (1.18.1)\n",
      "Requirement already satisfied: joblib>=0.11 in c:\\users\\sveta\\anaconda3\\lib\\site-packages (from scikit-learn->sklearn) (0.11)\n",
      "Requirement already satisfied: scipy>=0.17.0 in c:\\users\\sveta\\anaconda3\\lib\\site-packages (from scikit-learn->sklearn) (1.4.1)\n"
     ]
    }
   ],
   "source": [
    "!pip install pandas\n",
    "!pip install numpy\n",
    "!pip install scipy\n",
    "!pip install sklearn"
   ]
  },
  {
   "cell_type": "markdown",
   "metadata": {},
   "source": [
    "### Import packages"
   ]
  },
  {
   "cell_type": "code",
   "execution_count": 2,
   "metadata": {},
   "outputs": [],
   "source": [
    "import numpy as np\n",
    "import pandas as pd"
   ]
  },
  {
   "cell_type": "code",
   "execution_count": 3,
   "metadata": {},
   "outputs": [],
   "source": [
    "from sklearn.preprocessing import scale\n",
    "from sklearn.decomposition import PCA"
   ]
  },
  {
   "cell_type": "markdown",
   "metadata": {},
   "source": [
    "# Data\n",
    "\n",
    "### Read data"
   ]
  },
  {
   "cell_type": "code",
   "execution_count": 4,
   "metadata": {},
   "outputs": [],
   "source": [
    "data = pd.read_csv('D:/ddoc/DLEARN/Simulation-KL/PSs/PS9/R/big5.csv')\n"
   ]
  },
  {
   "cell_type": "markdown",
   "metadata": {},
   "source": [
    "Use the next line for Mac"
   ]
  },
  {
   "cell_type": "code",
   "execution_count": null,
   "metadata": {
    "collapsed": true,
    "jupyter": {
     "outputs_hidden": true
    }
   },
   "outputs": [],
   "source": [
    "data = pd.read_csv('~/Desktop/big5.csv')"
   ]
  },
  {
   "cell_type": "markdown",
   "metadata": {},
   "source": [
    "## Convert data to array\n",
    "numpy array"
   ]
  },
  {
   "cell_type": "code",
   "execution_count": 5,
   "metadata": {},
   "outputs": [],
   "source": [
    "B5 = data.values"
   ]
  },
  {
   "cell_type": "markdown",
   "metadata": {},
   "source": [
    "## Scale the values"
   ]
  },
  {
   "cell_type": "code",
   "execution_count": 6,
   "metadata": {},
   "outputs": [],
   "source": [
    "B5 = scale(B5)"
   ]
  },
  {
   "cell_type": "markdown",
   "metadata": {},
   "source": [
    "# Analysis\n",
    "## PCA with 50 components"
   ]
  },
  {
   "cell_type": "code",
   "execution_count": 7,
   "metadata": {},
   "outputs": [
    {
     "name": "stdout",
     "output_type": "stream",
     "text": [
      "[0.16094782 0.09232704 0.07496706 0.07106975 0.05527023 0.03162151\n",
      " 0.02661239 0.02107264 0.01932722 0.01852372 0.01793632 0.01727272\n",
      " 0.01693739 0.01609371 0.01574126 0.01467629 0.01454566 0.0143959\n",
      " 0.01361599 0.0132375  0.0131375  0.0127068  0.01221268 0.01179972\n",
      " 0.01166806 0.01131724 0.01105065 0.01070598 0.01049148 0.01021466\n",
      " 0.01005835 0.00979429 0.00974433 0.00965472 0.00899616 0.00895622\n",
      " 0.00870151 0.0084372  0.00832411 0.00807597 0.00795317 0.00759249\n",
      " 0.00746061 0.00727172 0.00695443 0.00687505 0.00650515 0.00646821\n",
      " 0.00623663 0.0044428 ]\n"
     ]
    }
   ],
   "source": [
    "pca = PCA()\n",
    "pca.fit(B5)\n",
    "print(pca.explained_variance_ratio_)"
   ]
  },
  {
   "cell_type": "markdown",
   "metadata": {},
   "source": [
    "## PCA with 5 components"
   ]
  },
  {
   "cell_type": "code",
   "execution_count": 8,
   "metadata": {},
   "outputs": [
    {
     "name": "stdout",
     "output_type": "stream",
     "text": [
      "[0.16094782 0.09232704 0.07496704 0.07106972 0.05526965]\n"
     ]
    }
   ],
   "source": [
    "pca5 = PCA(n_components=5)\n",
    "pca5.fit(B5)\n",
    "print(pca5.explained_variance_ratio_)"
   ]
  },
  {
   "cell_type": "markdown",
   "metadata": {},
   "source": [
    "## Contributions of variables to components\n"
   ]
  },
  {
   "cell_type": "code",
   "execution_count": 9,
   "metadata": {},
   "outputs": [
    {
     "name": "stdout",
     "output_type": "stream",
     "text": [
      "[[-0.1835067   0.17986916 -0.25027488  0.20572835 -0.2317794   0.19852732\n",
      "  -0.22064036  0.13354831 -0.16420059  0.20171343  0.15518572 -0.12947072\n",
      "   0.12303085 -0.10158286  0.14284141  0.1668356   0.16249385  0.17355287\n",
      "   0.17738449  0.19452939  0.0931082  -0.17818305  0.09903481 -0.11444199\n",
      "   0.1338473  -0.05549683  0.18750365 -0.13293549 -0.1193462  -0.18738995\n",
      "  -0.11089889  0.05050233 -0.07402787  0.15181273 -0.10928833  0.09274568\n",
      "  -0.04474221  0.13887865 -0.090536   -0.09482882 -0.07037173  0.09893978\n",
      "  -0.03543099  0.07246618 -0.13077415  0.08789221 -0.11161471 -0.01253142\n",
      "   0.00407064 -0.11715393]\n",
      " [-0.12908475  0.16727185 -0.07349031  0.09467742 -0.14856947  0.12689685\n",
      "  -0.13666034  0.10849278 -0.11714055  0.07467839 -0.22755574  0.14193904\n",
      "  -0.216188    0.11803193 -0.18876407 -0.25275764 -0.24559213 -0.24936953\n",
      "  -0.19738667 -0.18607272  0.0840855  -0.1767655  -0.0531595  -0.19251131\n",
      "   0.17172165 -0.17894147  0.16878741 -0.13978267 -0.20742228 -0.09381307\n",
      "   0.12344923 -0.16167509  0.03931295 -0.20090702  0.11362758 -0.16859022\n",
      "   0.07012669 -0.11189648  0.0720265   0.05253446 -0.01510569 -0.02976573\n",
      "  -0.10959107  0.02529754 -0.02572136  0.06259793  0.03479963 -0.04684024\n",
      "  -0.09109449 -0.07246181]\n",
      " [ 0.15069555 -0.13925309  0.06002639 -0.16237055  0.08469948 -0.10335949\n",
      "   0.12228945 -0.18676993  0.1742741  -0.15468548 -0.12677673  0.10434854\n",
      "  -0.17932665  0.05178955 -0.03885222 -0.086281   -0.00801582 -0.0104064\n",
      "  -0.02468981 -0.06257793  0.13972044 -0.07704659  0.20710797 -0.2511356\n",
      "   0.17200553 -0.22927936  0.11198487 -0.18947615 -0.22465131 -0.07686601\n",
      "  -0.18807114  0.18534778 -0.17729299  0.15114239 -0.2144309   0.19071725\n",
      "  -0.22711481  0.18094205 -0.24293632 -0.17322957  0.04109329 -0.04974094\n",
      "   0.03406412 -0.02241453  0.038259   -0.0437492  -0.00554918  0.07487055\n",
      "  -0.11896356  0.05827484]\n",
      " [ 0.07143078 -0.07536867  0.11549734 -0.0946025   0.06630788  0.03147198\n",
      "   0.08812759 -0.05956985  0.01751868 -0.08287847 -0.01174088  0.01319562\n",
      "  -0.03829955  0.0650718   0.03429254  0.00390307 -0.03977348 -0.03615071\n",
      "  -0.04690818 -0.08997681 -0.0022645   0.04956944 -0.07854687  0.06220994\n",
      "  -0.0692445   0.08519026 -0.07797151  0.04563513  0.03466722  0.02961291\n",
      "  -0.08804808 -0.0333754  -0.17309465 -0.00920404  0.03055111 -0.00864163\n",
      "  -0.0635395   0.01157977 -0.00361654 -0.14864167 -0.32863865  0.29114122\n",
      "  -0.28811985  0.25094587 -0.29660314  0.25465727 -0.26924931 -0.32367444\n",
      "  -0.21359892 -0.32741998]\n",
      " [ 0.15072512 -0.13041239  0.06778723 -0.13706209  0.13096598 -0.07314545\n",
      "   0.12720269 -0.14308484  0.15807344 -0.1113203   0.13951216 -0.1447151\n",
      "   0.10211183  0.00129631  0.11934807  0.1512585   0.1595791   0.16405042\n",
      "   0.22566482  0.05106728  0.18241628 -0.11098564  0.16899891 -0.20917591\n",
      "   0.19716335 -0.14315111  0.15633632 -0.14365236 -0.14490978 -0.02154965\n",
      "   0.21114714 -0.19639323  0.11473023 -0.11627474  0.23234433 -0.19310558\n",
      "   0.22224148 -0.08723815  0.24544503  0.1679674  -0.01977197  0.11515568\n",
      "  -0.05688502  0.15454275  0.06964913  0.07185565  0.02805701  0.0015728\n",
      "  -0.06674246  0.00880085]]\n"
     ]
    }
   ],
   "source": [
    "print(pca5.components_)\n"
   ]
  },
  {
   "cell_type": "code",
   "execution_count": null,
   "metadata": {
    "collapsed": true,
    "jupyter": {
     "outputs_hidden": true
    }
   },
   "outputs": [],
   "source": []
  },
  {
   "cell_type": "code",
   "execution_count": null,
   "metadata": {
    "collapsed": true,
    "jupyter": {
     "outputs_hidden": true
    }
   },
   "outputs": [],
   "source": []
  }
 ],
 "metadata": {
  "kernelspec": {
   "display_name": "Python 3",
   "language": "python",
   "name": "python3"
  },
  "language_info": {
   "codemirror_mode": {
    "name": "ipython",
    "version": 3
   },
   "file_extension": ".py",
   "mimetype": "text/x-python",
   "name": "python",
   "nbconvert_exporter": "python",
   "pygments_lexer": "ipython3",
   "version": "3.6.4"
  }
 },
 "nbformat": 4,
 "nbformat_minor": 4
}
