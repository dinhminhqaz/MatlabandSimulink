{
 "cells": [
  {
   "cell_type": "markdown",
   "metadata": {},
   "source": [
    "# Solving Ordinary Differential Equations in Python\n",
    "\n",
    "### We will solve differential equations numerically with odeint.\n",
    "\n",
    "First step - import any required modules.\n",
    "We will use a shortcut to import commonly-used modules in scientific computing."
   ]
  },
  {
   "cell_type": "code",
   "execution_count": null,
   "metadata": {},
   "outputs": [],
   "source": [
    "% matplotlib inline\n",
    "import numpy as np # import numpy library as np\n",
    "import matplotlib.pyplot as plt # import pyplot library as plt\n",
    "plt.style.use('ggplot') # use \"ggplot\" style for graphs\n",
    "%pylab inline\n",
    "\n",
    "from scipy.integrate import odeint"
   ]
  },
  {
   "cell_type": "markdown",
   "metadata": {},
   "source": [
    "## Numerical solution of the logistic equation\n",
    "\n",
    "$$\n",
    "\\frac{{d{\\bf{y}}}}{{dt}} = f\\left( {t,{\\bf{y}}} \\right)\n",
    "$$\n",
    "\n",
    "or\n",
    "\n",
    "\\begin{equation}\n",
    "\\frac{{dy}}{{dt}} = k \\cdot y \\cdot (1-\\frac{{y}}{{K}})\n",
    "\\end{equation}\n",
    "\n"
   ]
  },
  {
   "cell_type": "markdown",
   "metadata": {},
   "source": [
    "### Define a function which calculates the derivative"
   ]
  },
  {
   "cell_type": "code",
   "execution_count": null,
   "metadata": {},
   "outputs": [],
   "source": [
    "r = 0.1\n",
    "K = 10\n",
    "def dy_dt(y, t):\n",
    "    return r*y*(1-y/K)\n",
    "\n",
    "ts = np.linspace(0,100,1000)\n",
    "y0 = 0.1\n",
    "ys = odeint(dy_dt, y0, ts)\n",
    "ys = np.array(ys).flatten()"
   ]
  },
  {
   "cell_type": "code",
   "execution_count": null,
   "metadata": {},
   "outputs": [],
   "source": [
    "plt.plot(ts, ys)\n",
    "plt.xlabel(\"t\")\n",
    "plt.ylabel(\"y\");\n"
   ]
  },
  {
   "cell_type": "code",
   "execution_count": null,
   "metadata": {},
   "outputs": [],
   "source": [
    "odeint?"
   ]
  },
  {
   "cell_type": "code",
   "execution_count": null,
   "metadata": {},
   "outputs": [],
   "source": []
  }
 ],
 "metadata": {
  "kernelspec": {
   "display_name": "Python 3",
   "language": "python",
   "name": "python3"
  },
  "language_info": {
   "codemirror_mode": {
    "name": "ipython",
    "version": 3
   },
   "file_extension": ".py",
   "mimetype": "text/x-python",
   "name": "python",
   "nbconvert_exporter": "python",
   "pygments_lexer": "ipython3",
   "version": "3.6.4"
  }
 },
 "nbformat": 4,
 "nbformat_minor": 4
}
